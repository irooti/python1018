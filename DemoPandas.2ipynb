#조각 조가의 데이터를 병합 (merge)

df1 = DataFrame( {'key':['b', 'b', 'a', 'c', 'a', 'a', 'b'],
                  'data1': range(7)}

)

df1

